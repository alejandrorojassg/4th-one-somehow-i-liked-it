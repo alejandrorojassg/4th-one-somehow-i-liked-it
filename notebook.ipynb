{
 "cells": [
  {
   "cell_type": "markdown",
   "metadata": {},
   "source": [
    "# one of my fav topic (reto4)\n",
    "---\n",
    "```hi, everyone, i'd say conditionals is so good to me, that's why i love programming logic, (this kinda), so, now, get u entertained w/ my repo. see ya' 'round```\n",
    "---"
   ]
  },
  {
   "cell_type": "markdown",
   "metadata": {},
   "source": [
    "- <h3>first</h3>\n",
    "    <p>Dado un número entero, determinar si ese número corresponde al código ASCII de una vocal minúscula</p>"
   ]
  },
  {
   "cell_type": "code",
   "execution_count": null,
   "metadata": {},
   "outputs": [],
   "source": [
    "def vocal_minuscula(codigo_ascii):\n",
    "  \n",
    "  if codigo_ascii == 97:\n",
    "    return True\n",
    "  elif codigo_ascii == 98:\n",
    "    return True\n",
    "  elif codigo_ascii == 99:\n",
    "    return True\n",
    "  elif codigo_ascii == 100:\n",
    "    return True\n",
    "  elif codigo_ascii == 101:\n",
    "    return True\n",
    "  else:\n",
    "    return False\n",
    "\n",
    "numero = int(input(\"Ingrese un número entero: \"))\n",
    "\n",
    "if vocal_minuscula(numero):\n",
    "  print(f\"El número {numero} corresponde al código ASCII de una vocal minúscula.\")\n",
    "else:\n",
    "  print(f\"El número {numero} no corresponde al código ASCII de una vocal minúscula.\")"
   ]
  },
  {
   "cell_type": "markdown",
   "metadata": {},
   "source": [
    "- <h3>second</h3>\n",
    "    <p>Dada una cadena de longitud 1, determine si el código ASCII de primera letra de la cadena es par o no</p>"
   ]
  },
  {
   "cell_type": "code",
   "execution_count": 8,
   "metadata": {},
   "outputs": [
    {
     "name": "stdout",
     "output_type": "stream",
     "text": [
      "El código ASCII de la primera letra de la cadena '4' es par.\n"
     ]
    }
   ],
   "source": [
    "def par(cadena):\n",
    "  \n",
    "  if len(cadena) != 1:\n",
    "    print(\"La cadena debe tener longitud 1\")\n",
    "    return None\n",
    "  \n",
    "  primera_letra = cadena[0]\n",
    "  codigo_ascii = ord(primera_letra)\n",
    "  \n",
    "  if codigo_ascii == 97 or codigo_ascii == 99 or codigo_ascii == 101 or codigo_ascii == 103 or codigo_ascii == 105:\n",
    "    return False\n",
    "  else:\n",
    "    return True\n",
    "\n",
    "cadena = input(\"Ingrese una cadena de longitud 1: \")\n",
    "\n",
    "if par(cadena) is not None:\n",
    "  if par(cadena):\n",
    "    print(f\"El código ASCII de la primera letra de la cadena '{cadena}' es par.\")\n",
    "  else:\n",
    "    print(f\"El código ASCII de la primera letra de la cadena '{cadena}' no es par.\")\n"
   ]
  },
  {
   "cell_type": "markdown",
   "metadata": {},
   "source": [
    "- <h3>third</h3>\n",
    "    <p>Dado un carácter, construya un programa en Python para determinar si el carácter es un dígito o no</p>\n"
   ]
  },
  {
   "cell_type": "code",
   "execution_count": null,
   "metadata": {},
   "outputs": [],
   "source": [
    "def digito(caracter):\n",
    "  return caracter.isdigit()\n",
    "\n",
    "caracter = input(\"Ingrese un caracter: \")\n",
    "\n",
    "if digito(caracter):\n",
    "  print(f\"El caracter '{caracter}' es un dígito.\")\n",
    "else:\n",
    "  print(f\"El caracter '{caracter}' no es un dígito.\")\n"
   ]
  },
  {
   "cell_type": "markdown",
   "metadata": {},
   "source": [
    "- <h3>fourth</h3> \n",
    "\t<p>Dado un número real x, construya un programa que permita determinar si el número es positivo, negativo o cero. Para cada caso de debe imprimir el texto que se especifica a continuación:\n",
    "\n",
    "\t\t- Positivo: \"El número x es positivo\"\n",
    "\t\t- Negativo: \"El número x es negativo\"\n",
    "\t\t- Cero (0): \"El número x es el neutro para la suma\"\n",
    "\t</p>"
   ]
  },
  {
   "cell_type": "code",
   "execution_count": null,
   "metadata": {},
   "outputs": [],
   "source": [
    "numero_real = float(input(\"Escriba un número real: \"))\n",
    "\n",
    "if numero_real > 0 :\n",
    "    print(\"El número x es positivo\")\n",
    "elif numero_real < 0 :\n",
    "    print(\"El número x es negativo\")\n",
    "else: \n",
    "    print(\"El número x es el neutro para la suma\")"
   ]
  },
  {
   "cell_type": "markdown",
   "metadata": {},
   "source": [
    "- <h3>fiveth</h3>\n",
    "    <p>Dado el centro y el radio de un círculo, determinar si un punto de R2 pertenece o no al interior del círculo</p>"
   ]
  },
  {
   "cell_type": "code",
   "execution_count": null,
   "metadata": {},
   "outputs": [],
   "source": [
    "def pertenece_al_circulo(centro_x, centro_y, radio, punto_x, punto_y):\n",
    "  distancia_centro = ((punto_x - centro_x)**2 + (punto_y - centro_y)**2)**0.5\n",
    "  return distancia_centro < radio\n",
    "\n",
    "centro_x = float(input(\"Ingrese la coordenada x del centro del círculo: \"))\n",
    "centro_y = float(input(\"Ingrese la coordenada y del centro del círculo: \"))\n",
    "radio = float(input(\"Ingrese el radio del círculo: \"))\n",
    "punto_x = float(input(\"Ingrese la coordenada x del punto: \"))\n",
    "punto_y = float(input(\"Ingrese la coordenada y del punto: \"))\n",
    "\n",
    "if pertenece_al_circulo(centro_x, centro_y, radio, punto_x, punto_y):\n",
    "  print(f\"El punto ({punto_x}, {punto_y}) pertenece al interior del círculo.\")\n",
    "else:\n",
    "  print(f\"El punto ({punto_x}, {punto_y}) no pertenece al interior del círculo.\")"
   ]
  },
  {
   "cell_type": "markdown",
   "metadata": {},
   "source": [
    "- <h3>sixth</h3>\n",
    "    <p>Dadas tres longitudes positivas, determinar si con esas longitudes se puede construir un triángulo</p>"
   ]
  },
  {
   "cell_type": "code",
   "execution_count": null,
   "metadata": {},
   "outputs": [],
   "source": [
    "def es_triangulo(x, y, s):\n",
    "  return a + b > c and a + c > b and b + c > a\n",
    "\n",
    "x = float(input(\"Ingrese la primera longitud: \"))\n",
    "y = float(input(\"Ingrese la segunda longitud: \"))\n",
    "s = float(input(\"Ingrese la tercera longitud: \"))\n",
    "\n",
    "if es_triangulo(x, y, s):\n",
    "  print(\"Las tres longitudes forman un triángulo.\")\n",
    "else:\n",
    "  print(\"Las tres longitudes no forman un triángulo.\")"
   ]
  }
 ],
 "metadata": {
  "kernelspec": {
   "display_name": "Python 3",
   "language": "python",
   "name": "python3"
  },
  "language_info": {
   "codemirror_mode": {
    "name": "ipython",
    "version": 3
   },
   "file_extension": ".py",
   "mimetype": "text/x-python",
   "name": "python",
   "nbconvert_exporter": "python",
   "pygments_lexer": "ipython3",
   "version": "3.12.2"
  }
 },
 "nbformat": 4,
 "nbformat_minor": 2
}
